{
 "cells": [
  {
   "cell_type": "markdown",
   "metadata": {},
   "source": [
    "Merge Sort does logn merge steps because each merge step doubles the list size  \n",
    "It does `n` work for each merge step because it must look at verty item.  "
   ]
  },
  {
   "cell_type": "code",
   "execution_count": 1,
   "metadata": {},
   "outputs": [],
   "source": [
    "# References http://stackoverflow.com/questions/18761766/mergesort-python\n"
   ]
  },
  {
   "cell_type": "code",
   "execution_count": 12,
   "metadata": {},
   "outputs": [],
   "source": [
    "def merge_sort(a):\n",
    "    \n",
    "    if len(a) < 2:\n",
    "        return a\n",
    "    \n",
    "    result = []\n",
    "    mid = len(a) // 2\n",
    "    \n",
    "    lo_a = merge_sort(a[:mid])\n",
    "    hi_a = merge_sort(a[mid:])\n",
    "        \n",
    "    # merging two part of array\n",
    "    i = 0 # iterator for `lo_a`\n",
    "    j = 0 # iterator for `hi_a`\n",
    "    while i < len(lo_a) and j < len(hi_a) :\n",
    "        if lo_a[i] < hi_a[j]:\n",
    "            result.append(lo_a[i])\n",
    "            i +=1\n",
    "        else:\n",
    "            result.append(hi_a[j])\n",
    "            j +=1\n",
    "            \n",
    "    # merge the rest\n",
    "    result.extend(lo_a[i:])\n",
    "    result.extend(hi_a[j:])\n",
    "    \n",
    "    return result"
   ]
  },
  {
   "cell_type": "code",
   "execution_count": 13,
   "metadata": {},
   "outputs": [
    {
     "name": "stdout",
     "output_type": "stream",
     "text": [
      "[2, 9, 12, 24, 33, 34, 45, 99]\n"
     ]
    }
   ],
   "source": [
    "alist = [34,2,24,12, 45,33,9,99]\n",
    "print(merge_sort(alist))"
   ]
  },
  {
   "cell_type": "code",
   "execution_count": null,
   "metadata": {},
   "outputs": [],
   "source": []
  }
 ],
 "metadata": {
  "kernelspec": {
   "display_name": "Python 3",
   "language": "python",
   "name": "python3"
  },
  "language_info": {
   "codemirror_mode": {
    "name": "ipython",
    "version": 3
   },
   "file_extension": ".py",
   "mimetype": "text/x-python",
   "name": "python",
   "nbconvert_exporter": "python",
   "pygments_lexer": "ipython3",
   "version": "3.6.4"
  }
 },
 "nbformat": 4,
 "nbformat_minor": 2
}
