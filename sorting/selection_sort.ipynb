{
 "cells": [
  {
   "cell_type": "code",
   "execution_count": 1,
   "metadata": {},
   "outputs": [],
   "source": [
    "def selection_sort(a):\n",
    "    \n",
    "    for i in range(len(a)):\n",
    "        \n",
    "        mini = i\n",
    "        for j in range(i+1, len(a)):\n",
    "            if a[mini] > a[j]:\n",
    "                mini = j\n",
    "        a[mini], a[i] = a[i], a[mini]\n",
    "    \n",
    "    return a\n",
    "                "
   ]
  },
  {
   "cell_type": "code",
   "execution_count": 2,
   "metadata": {},
   "outputs": [
    {
     "name": "stdout",
     "output_type": "stream",
     "text": [
      "[1, 2, 3, 4, 5, 10, 100]\n"
     ]
    }
   ],
   "source": [
    "alist = [4,2,1,10,5,3,100]\n",
    "print(selection_sort(alist))"
   ]
  },
  {
   "cell_type": "code",
   "execution_count": null,
   "metadata": {},
   "outputs": [],
   "source": []
  },
  {
   "cell_type": "code",
   "execution_count": 6,
   "metadata": {},
   "outputs": [],
   "source": [
    "# grokking algorithms\n",
    "def selection_sort2(a):\n",
    "    new_a = []\n",
    "    for i in range(len(a)):\n",
    "        smallest = find_smallest(a)\n",
    "        new_a.append(a.pop(smallest))\n",
    "    return new_a\n",
    "\n",
    "def find_smallest(a):\n",
    "    #smallest = a[0]\n",
    "    smallest_idx = 0\n",
    "    \n",
    "    for i in range(1, len(a)):\n",
    "        if a[i] < a[smallest_idx]:\n",
    "            #smallest = a[i]\n",
    "            smallest_idx = i\n",
    "            \n",
    "    return smallest_idx"
   ]
  },
  {
   "cell_type": "code",
   "execution_count": null,
   "metadata": {},
   "outputs": [],
   "source": []
  },
  {
   "cell_type": "code",
   "execution_count": 7,
   "metadata": {},
   "outputs": [
    {
     "name": "stdout",
     "output_type": "stream",
     "text": [
      "[1, 2, 3, 4, 5, 10, 100]\n"
     ]
    }
   ],
   "source": [
    "alist = [4,2,1,10,5,3,100]\n",
    "print(selection_sort2(alist))"
   ]
  },
  {
   "cell_type": "code",
   "execution_count": null,
   "metadata": {},
   "outputs": [],
   "source": []
  }
 ],
 "metadata": {
  "kernelspec": {
   "display_name": "Python 3",
   "language": "python",
   "name": "python3"
  },
  "language_info": {
   "codemirror_mode": {
    "name": "ipython",
    "version": 3
   },
   "file_extension": ".py",
   "mimetype": "text/x-python",
   "name": "python",
   "nbconvert_exporter": "python",
   "pygments_lexer": "ipython3",
   "version": "3.6.4"
  }
 },
 "nbformat": 4,
 "nbformat_minor": 2
}
