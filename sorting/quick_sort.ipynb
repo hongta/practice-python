{
 "cells": [
  {
   "cell_type": "markdown",
   "metadata": {},
   "source": [
    "Worst case is O(n^2)  \n",
    "Average case is O(nlogn)  \n",
    "Performance depends largely on Pivot selection"
   ]
  },
  {
   "cell_type": "markdown",
   "metadata": {},
   "source": [
    "### Select a pivot from the array\n",
    "  - first element\n",
    "  - last element\n",
    "  - middle element\n",
    "  - mediem of above three"
   ]
  },
  {
   "cell_type": "code",
   "execution_count": 32,
   "metadata": {},
   "outputs": [],
   "source": [
    "# source: https://github.com/joeyajames/Python/blob/master/SortingAlgorithms.py\n",
    "def select_pivot(array, low=0, hi=None):\n",
    "    if not hi:\n",
    "        hi = len(array) - 1\n",
    "        \n",
    "    mid = (low + hi) // 2\n",
    "    s = sorted([array[low], array[mid], array[hi]])\n",
    "    \n",
    "    #choice the middle element in `s`\n",
    "    if s[1] == array[low]:\n",
    "        return low\n",
    "    if s[1] == array[mid]:\n",
    "        return mid\n",
    "    return hi"
   ]
  },
  {
   "cell_type": "markdown",
   "metadata": {},
   "source": [
    "`border`: any elements in left of `border` are less than pivot"
   ]
  },
  {
   "cell_type": "code",
   "execution_count": null,
   "metadata": {},
   "outputs": [],
   "source": []
  },
  {
   "cell_type": "code",
   "execution_count": 36,
   "metadata": {},
   "outputs": [],
   "source": [
    "def quick_sort(array, lo=0, hi=None):\n",
    "    if hi is None:\n",
    "        hi = len(array) - 1\n",
    "    \n",
    "    def _quick_sort(array, lo, hi):\n",
    "        if lo >= hi:\n",
    "            return\n",
    "        \n",
    "        pivot = partition(array, lo, hi)\n",
    "\n",
    "        _quick_sort(array, lo, pivot-1)\n",
    "        _quick_sort(array, pivot+1, hi)\n",
    "    \n",
    "    return _quick_sort(array, lo, hi)\n",
    "\n",
    "def partition(array, lo, hi):\n",
    "\n",
    "    # simply select first element as pivot\n",
    "    #   or use sorted(low, midum, high)[1] as pivot,\n",
    "    #       and exchange with a[lo]\n",
    "    pivot = array[lo]\n",
    "\n",
    "    border = lo # border: any elements in left of border are less than pivot\n",
    "    \n",
    "    for i in range(lo, hi + 1):\n",
    "        if array[i] < pivot:\n",
    "            border +=1\n",
    "            array[i], array[border] = array[border], array[i]\n",
    "            \n",
    "    array[lo], array[border] = array[border], array[lo] # exchange border with pivoit\n",
    "\n",
    "    return border"
   ]
  },
  {
   "cell_type": "code",
   "execution_count": 39,
   "metadata": {},
   "outputs": [],
   "source": [
    "# from grokking algorithms page no.65\n",
    "def quick_sort2(array):\n",
    "    if len(array) < 2:\n",
    "        return array\n",
    "    \n",
    "    pivot = array[0]\n",
    "     \n",
    "    less = [v for v in array[1:] if v <=pivot]\n",
    "    greater = [v for v in array[1:] if v > pivot]\n",
    "    \n",
    "    return quick_sort2(less) + [pivot] + quick_sort2(greater)"
   ]
  },
  {
   "cell_type": "code",
   "execution_count": 40,
   "metadata": {
    "scrolled": false
   },
   "outputs": [
    {
     "name": "stdout",
     "output_type": "stream",
     "text": [
      "before:  [54, 26, 93, 17, 77, 31, 20, 44, 55, 20]\n",
      "after :  [17, 20, 20, 26, 31, 44, 54, 55, 77, 93]\n"
     ]
    }
   ],
   "source": [
    "alist = [54,26,93,17,77,31,20, 44,55,20]\n",
    "blist = quick_sort2(alist)\n",
    "print(\"before: \",alist)\n",
    "print(\"after : \",blist)"
   ]
  },
  {
   "cell_type": "code",
   "execution_count": null,
   "metadata": {},
   "outputs": [],
   "source": []
  }
 ],
 "metadata": {
  "kernelspec": {
   "display_name": "Python 3",
   "language": "python",
   "name": "python3"
  },
  "language_info": {
   "codemirror_mode": {
    "name": "ipython",
    "version": 3
   },
   "file_extension": ".py",
   "mimetype": "text/x-python",
   "name": "python",
   "nbconvert_exporter": "python",
   "pygments_lexer": "ipython3",
   "version": "3.6.4"
  }
 },
 "nbformat": 4,
 "nbformat_minor": 2
}
