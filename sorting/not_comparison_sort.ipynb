{
 "cells": [
  {
   "cell_type": "markdown",
   "metadata": {},
   "source": [
    "## Counting Sort"
   ]
  },
  {
   "cell_type": "code",
   "execution_count": 77,
   "metadata": {},
   "outputs": [],
   "source": [
    "def counting_sort(a):\n",
    "    return _counting_sort(a, max(a))\n",
    "\n",
    "def _counting_sort(a, max_value):\n",
    "    \n",
    "    result = []\n",
    "    counter = [0] * (max_value + 1)\n",
    "    \n",
    "    for i in a:\n",
    "        counter[i] += 1\n",
    "    \n",
    "    for i, count in enumerate(counter):\n",
    "        result.extend([i] * count)\n",
    "    \n",
    "    return result"
   ]
  },
  {
   "cell_type": "code",
   "execution_count": 76,
   "metadata": {},
   "outputs": [
    {
     "name": "stdout",
     "output_type": "stream",
     "text": [
      "[0, 2, 1, 1, 1, 1, 0, 1, 0, 0, 2, 0, 0, 0, 0, 0, 0, 0, 0, 0, 0, 0, 1]\n",
      "[1, 1, 2, 3, 4, 5, 7, 10, 10, 22]\n"
     ]
    }
   ],
   "source": [
    "d = [4,2,1,10,10,5,3,22, 7, 1]\n",
    "print(counting_sort(d))"
   ]
  },
  {
   "cell_type": "code",
   "execution_count": 5,
   "metadata": {},
   "outputs": [],
   "source": [
    "def counting_sort_in_place(a):\n",
    "    \"\"\"\n",
    "    in-place counting sort\n",
    "    http://p-nand-q.com/python/algorithms/sorting/countingsort.html\n",
    "    \"\"\"\n",
    "    \n",
    "    counter = [0] * (max(a) + 1)\n",
    "    for i in a:\n",
    "        counter[i] += 1\n",
    "    \n",
    "    pos = 0\n",
    "    for i, count in enumerate(counter):\n",
    "        for _ in range(count):\n",
    "            a[pos] = i\n",
    "            pos += 1\n",
    "    return a"
   ]
  },
  {
   "cell_type": "code",
   "execution_count": 6,
   "metadata": {},
   "outputs": [
    {
     "name": "stdout",
     "output_type": "stream",
     "text": [
      "[1, 1, 2, 3, 4, 5, 7, 10, 10, 22]\n"
     ]
    }
   ],
   "source": [
    "d = [4,2,1,10,10,5,3,22, 7, 1]\n",
    "print(counting_sort_in_place(d))"
   ]
  },
  {
   "cell_type": "code",
   "execution_count": 32,
   "metadata": {},
   "outputs": [],
   "source": [
    "def counting_sort_alpha(a):\n",
    "    max_value = 255\n",
    "    \n",
    "    result = []\n",
    "    counter = [0] * (max_value + 1)\n",
    "    \n",
    "    for i in a:\n",
    "        counter[ord(i)] += 1\n",
    "    \n",
    "    for i, count in enumerate(counter):\n",
    "        result.extend([i] * count)\n",
    "    \n",
    "    return \"\".join(chr(n) for n in result)"
   ]
  },
  {
   "cell_type": "code",
   "execution_count": 33,
   "metadata": {},
   "outputs": [
    {
     "name": "stdout",
     "output_type": "stream",
     "text": [
      "aehiiilmoprsssstt\n"
     ]
    }
   ],
   "source": [
    "d = \"thisisasimplesort\"\n",
    "print(counting_sort_alpha(d))"
   ]
  },
  {
   "cell_type": "code",
   "execution_count": 35,
   "metadata": {},
   "outputs": [],
   "source": [
    "import unittest\n",
    " \n",
    "class Test( unittest.TestCase ):\n",
    " \n",
    "    def testCountingSortInPlace( self ):\n",
    "\n",
    "        A = [6, 4, 3, 2, 1, 4, 3, 6, 6, 2, 4, 3, 4]\n",
    "        k = 6\n",
    "        counting_sort_in_place( A)\n",
    "        for i in range( 1, len( A ) ):\n",
    "            if A[i - 1] > A[i]:\n",
    "                self.fail( \"counting_sort_in_place method fails.\" )\n",
    "\n",
    "    def testCountingSort( self ):\n",
    "\n",
    "        A = [6, 4, 3, 2, 1, 4, 3, 6, 6, 2, 4, 3, 4]\n",
    "        k = 6\n",
    "        A = counting_sort(A)\n",
    "        for i in range( 1, len( A ) ):\n",
    "            if A[i - 1] > A[i]:\n",
    "                self.fail( \"counting_sort method fails.\" )\n",
    "    \n",
    "    def testCountingSortAlpha(self):\n",
    "        A = \"thisisasimplesort\"\n",
    "        A = counting_sort_alpha(A)\n",
    "        for i in range( 1, len( A ) ):\n",
    "            if ord(A[i - 1]) > ord(A[i]):\n",
    "                self.fail( \"counting_sort_alpha method fails.\" )"
   ]
  },
  {
   "cell_type": "code",
   "execution_count": 36,
   "metadata": {
    "scrolled": true
   },
   "outputs": [
    {
     "name": "stderr",
     "output_type": "stream",
     "text": [
      "...\n",
      "----------------------------------------------------------------------\n",
      "Ran 3 tests in 0.003s\n",
      "\n",
      "OK\n"
     ]
    },
    {
     "data": {
      "text/plain": [
       "<unittest.main.TestProgram at 0x110e105c0>"
      ]
     },
     "execution_count": 36,
     "metadata": {},
     "output_type": "execute_result"
    }
   ],
   "source": [
    "unittest.main(argv=['first-arg-is-ignored'], exit=False)"
   ]
  },
  {
   "cell_type": "markdown",
   "metadata": {},
   "source": [
    "## Radix Sort"
   ]
  },
  {
   "cell_type": "markdown",
   "metadata": {},
   "source": [
    "Radix-sort sorts $ \\mathtt{w}$-bit integers by using $ \\mathtt{w}/\\mathtt{d}$ passes of counting-sort to sort these integers $ \\mathtt{d}$ bits at a time.  \n",
    "\n",
    "More precisely, radix sort first sorts the integers by their least significant $ \\mathtt{d}$ bits, then their next significant $ \\mathtt{d}$ bits, and so on until, in the last pass, the integers are sorted by their most significant $ \\mathtt{d}$ bits."
   ]
  },
  {
   "cell_type": "code",
   "execution_count": 38,
   "metadata": {},
   "outputs": [
    {
     "data": {
      "text/plain": [
       "2"
      ]
     },
     "execution_count": 38,
     "metadata": {},
     "output_type": "execute_result"
    }
   ],
   "source": [
    "A = [16, 4, 3, 2, 1, 4, 3, 6, 6, 2, 4, 3, 4]\n",
    "import math\n",
    "math.floor(math.log10(max(A))) + 1"
   ]
  },
  {
   "cell_type": "code",
   "execution_count": 53,
   "metadata": {},
   "outputs": [],
   "source": [
    "def get_num_difit(n):\n",
    "    i = 0\n",
    "    while n > 0:\n",
    "        n //= 10\n",
    "        i += 1\n",
    "    return i"
   ]
  },
  {
   "cell_type": "code",
   "execution_count": 55,
   "metadata": {},
   "outputs": [
    {
     "data": {
      "text/plain": [
       "4"
      ]
     },
     "execution_count": 55,
     "metadata": {},
     "output_type": "execute_result"
    }
   ],
   "source": [
    "get_num_difit(1030)"
   ]
  },
  {
   "cell_type": "code",
   "execution_count": 70,
   "metadata": {},
   "outputs": [],
   "source": [
    "# source: https://en.wikibooks.org/wiki/Algorithm_Implementation/Sorting/Radix_sort\n",
    "import math\n",
    "def radix_sort(a):\n",
    "    # num_digit = math.floor(math.log10(max(a))) + 1\n",
    "    num_digit = get_num_difit(max(a))\n",
    "    return _radix_sort(a, num_digit)\n",
    "\n",
    "def _radix_sort(a, num_digit):\n",
    "    radix = 10\n",
    "    \n",
    "    for x in range(num_digit):\n",
    "        bins = [[] for i in range(radix)]\n",
    "        \n",
    "        for y in a:\n",
    "            bins[(y//radix**x)%radix].append(y)\n",
    "            \n",
    "        a = []\n",
    "        for section in bins:\n",
    "            a.extend(section)\n",
    "    return a"
   ]
  },
  {
   "cell_type": "code",
   "execution_count": 93,
   "metadata": {},
   "outputs": [],
   "source": [
    "# source https://www.lewuathe.com/radix-sort-in-python.html\n",
    "# TODO\n",
    "def get_digit(n, d):\n",
    "    for i in range(d-1):\n",
    "        n //= 10\n",
    "    return n % 10\n",
    "\n",
    "def get_num_difit(n):\n",
    "    i = 0\n",
    "    while n > 0:\n",
    "        n //= 10\n",
    "        i += 1\n",
    "    return i\n",
    "\n",
    "def counting_sort(a, max_value, get_index):\n",
    "    counter = [0] * (max_value + 1)\n",
    "    \n",
    "    result = []\n",
    "    for i in a:\n",
    "        counter[get_index(i)] += 1\n",
    "    print(counter)  \n",
    "    for i, count in enumerate(counter):\n",
    "            result.extend([get_index(i)] * count) \n",
    "    \n",
    "    return result\n",
    "def radix_sort(a):\n",
    "    return _radix_sort(a, max(a))\n",
    "def _radix_sort(a, max_value):\n",
    "    num_digits = get_num_difit(max_value)\n",
    "    \n",
    "    for d in range(num_digits):\n",
    "    # Counting sort takes O(n+k)\n",
    "        arr = counting_sort(a, 10, lambda a: get_digit(a, d+1))\n",
    "    return arr"
   ]
  },
  {
   "cell_type": "code",
   "execution_count": 94,
   "metadata": {},
   "outputs": [
    {
     "name": "stdout",
     "output_type": "stream",
     "text": [
      "[0, 0, 2, 1, 7, 0, 3, 0, 0, 0, 0]\n",
      "[4, 1, 3, 2, 2, 1, 0, 0, 0, 0, 0]\n",
      "[9, 2, 0, 1, 0, 1, 0, 0, 0, 0, 0]\n",
      "[12, 0, 0, 1, 0, 0, 0, 0, 0, 0, 0]\n",
      "[0, 0, 0, 0, 0, 0, 0, 0, 0, 0, 0, 0, 0]\n"
     ]
    }
   ],
   "source": [
    "A = [16, 4, 3, 42, 134, 344, 3554, 6, 26, 2, 24, 34, 124]\n",
    "print(radix_sort(A))"
   ]
  },
  {
   "cell_type": "code",
   "execution_count": 68,
   "metadata": {},
   "outputs": [],
   "source": [
    "import unittest\n",
    " \n",
    "class Test( unittest.TestCase ):\n",
    " \n",
    "    def testRadixSort( self ):\n",
    "\n",
    "        A = [16, 4, 3, 42, 134, 344, 3554, 6, 26, 2, 24, 34, 124]\n",
    "        \n",
    "        A = radix_sort(A)\n",
    "        print(A)\n",
    "        for i in range( 1, len( A ) ):\n",
    "            if A[i - 1] > A[i]:\n",
    "                self.fail( \"radix_sort method fails.\" )\n"
   ]
  },
  {
   "cell_type": "code",
   "execution_count": 69,
   "metadata": {
    "scrolled": true
   },
   "outputs": [
    {
     "name": "stderr",
     "output_type": "stream",
     "text": [
      "."
     ]
    },
    {
     "name": "stdout",
     "output_type": "stream",
     "text": [
      "[2, 3, 4, 6, 16, 24, 26, 34, 42, 124, 134, 344, 3554]\n"
     ]
    },
    {
     "name": "stderr",
     "output_type": "stream",
     "text": [
      "\n",
      "----------------------------------------------------------------------\n",
      "Ran 1 test in 0.001s\n",
      "\n",
      "OK\n"
     ]
    },
    {
     "data": {
      "text/plain": [
       "<unittest.main.TestProgram at 0x110e38ef0>"
      ]
     },
     "execution_count": 69,
     "metadata": {},
     "output_type": "execute_result"
    }
   ],
   "source": [
    "unittest.main(argv=['first-arg-is-ignored'], exit=False)"
   ]
  },
  {
   "cell_type": "markdown",
   "metadata": {},
   "source": [
    "## Bucket Sort"
   ]
  },
  {
   "cell_type": "code",
   "execution_count": null,
   "metadata": {},
   "outputs": [],
   "source": []
  }
 ],
 "metadata": {
  "kernelspec": {
   "display_name": "Python 3",
   "language": "python",
   "name": "python3"
  },
  "language_info": {
   "codemirror_mode": {
    "name": "ipython",
    "version": 3
   },
   "file_extension": ".py",
   "mimetype": "text/x-python",
   "name": "python",
   "nbconvert_exporter": "python",
   "pygments_lexer": "ipython3",
   "version": "3.6.5"
  }
 },
 "nbformat": 4,
 "nbformat_minor": 2
}
