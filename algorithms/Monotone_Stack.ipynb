{
 "metadata": {
  "language_info": {
   "codemirror_mode": {
    "name": "ipython",
    "version": 3
   },
   "file_extension": ".py",
   "mimetype": "text/x-python",
   "name": "python",
   "nbconvert_exporter": "python",
   "pygments_lexer": "ipython3",
   "version": "3.7.7-final"
  },
  "orig_nbformat": 2,
  "kernelspec": {
   "name": "Python 3.7.7 64-bit",
   "display_name": "Python 3.7.7 64-bit",
   "metadata": {
    "interpreter": {
     "hash": "df955ce39d0f31d56d4bb2fe0a613e5326ba60723fd33d8303a3aede8f65715c"
    }
   }
  }
 },
 "nbformat": 4,
 "nbformat_minor": 2,
 "cells": [
  {
   "source": [
    "# Monotone Stack Summary 单调栈\n",
    "单调栈 Monotone Stack，就是栈内元素都是单调递增或者单调递减\n",
    "\n",
    "单调栈的性质：\n",
    "\n",
    "1. 单调栈里的元素具有单调性\n",
    "2. 元素加入栈前，会在栈顶端把破坏栈单调性的元素都删除\n",
    "3. 使用单调栈可以找到元素向左遍历第一个比他小的元素，也可以找到元素向左遍历第一个比他大的元素。\n",
    "\n",
    "### 模版1\n",
    "```python\n",
    "        stack = [] #存放index\n",
    "        res = [0] * len(T)\n",
    "\n",
    "        for i in range(len(T)):\n",
    "            while len(stack) > 0 and T[stack[-1]] < T[i]:\n",
    "                idx = stack.pop()\n",
    "                res[idx] = i - idx\n",
    "            stack.append(i)\n",
    "        return res\n",
    "```\n",
    "### 模版2\n",
    "```python\n",
    "        for i in reversed(range(n)):\n",
    "            while stack and stack[-1] <= nums[i]:\n",
    "                stack.pop()\n",
    "            res[i] = stack[-1] if stack else -1\n",
    "            \n",
    "            stack.append(nums[i])\n",
    "\n",
    "         return res \n",
    "```\n"
   ],
   "cell_type": "markdown",
   "metadata": {}
  },
  {
   "source": [
    "## 739. 每日温度\n",
    "[739. 每日温度](https://leetcode-cn.com/problems/daily-temperatures/)"
   ],
   "cell_type": "markdown",
   "metadata": {}
  },
  {
   "cell_type": "code",
   "execution_count": null,
   "metadata": {},
   "outputs": [],
   "source": [
    "class Solution:\n",
    "    def dailyTemperatures(self, T: List[int]) -> List[int]:\n",
    "\n",
    "        stack = []\n",
    "        res = [0] * len(T)\n",
    "        for i in range(len(T)):\n",
    "            while len(stack) > 0 and T[stack[-1]] < T[i]:\n",
    "                idx = stack.pop()\n",
    "                res[idx] = i - idx\n",
    "            stack.append(i)\n",
    "        return res"
   ]
  },
  {
   "source": [
    "## 496. 下一个更大元素 I\n",
    "[496. 下一个更大元素 I](https://leetcode-cn.com/problems/next-greater-element-i/)"
   ],
   "cell_type": "markdown",
   "metadata": {}
  },
  {
   "cell_type": "code",
   "execution_count": null,
   "metadata": {},
   "outputs": [],
   "source": [
    "class Solution:\n",
    "    def nextGreaterElement(self, nums1: List[int], nums2: List[int]) -> List[int]:\n",
    "\n",
    "        stack = []\n",
    "        n = len(nums2)\n",
    "        d = {}\n",
    "        \n",
    "        for i in range(n):\n",
    "            while stack and stack[-1] < nums2[i]:\n",
    "                d[stack.pop()] = nums2[i]\n",
    "            stack.append(nums2[i])\n",
    "\n",
    "        while stack:\n",
    "            d[stack.pop()] = -1\n",
    "\n",
    "\n",
    "        return [d[v] for v in nums1]\n"
   ]
  },
  {
   "source": [
    "## 503. 下一个更大元素 II\n",
    "[503. 下一个更大元素 II](503. 下一个更大元素 II)"
   ],
   "cell_type": "markdown",
   "metadata": {}
  },
  {
   "cell_type": "code",
   "execution_count": null,
   "metadata": {},
   "outputs": [],
   "source": [
    "# 问题：\n",
    "# 1. 对数组的拷贝，造成浪费\n",
    "# 2. res依赖于初始化\n",
    "\n",
    "class Solution:\n",
    "    def nextGreaterElements(self, nums: List[int]) -> List[int]:\n",
    "\n",
    "        nums2 = nums * 2\n",
    "        n = len(nums2)\n",
    "\n",
    "        stack = []\n",
    "        res = [-1] * n\n",
    "        for i in range(n):\n",
    "            while stack and nums2[stack[-1]] < nums2[i]:\n",
    "                res[stack.pop()] = nums2[i]\n",
    "            stack.append(i)\n",
    "\n",
    "        return res[:len(nums)]"
   ]
  },
  {
   "cell_type": "code",
   "execution_count": null,
   "metadata": {},
   "outputs": [],
   "source": [
    "# 使用 i%n 作为index\n",
    "# 使用逆向遍历\n",
    "class Solution:\n",
    "    def nextGreaterElements(self, nums: List[int]) -> List[int]:\n",
    "\n",
    "        \n",
    "        n = len(nums)\n",
    "\n",
    "        stack = []\n",
    "        res = [-1] * n\n",
    "        for i in reversed(range(2*n)):\n",
    "            idx = i%n\n",
    "            while stack and stack[-1] <= nums[idx]:\n",
    "                stack.pop()\n",
    "            res[idx] = stack[-1] if stack else -1\n",
    "            stack.append(nums[idx])\n",
    "\n",
    "        return res"
   ]
  },
  {
   "source": [
    "## 84. 柱状图中最大的矩形\n",
    "[84. 柱状图中最大的矩形](https://leetcode-cn.com/problems/largest-rectangle-in-histogram/)"
   ],
   "cell_type": "markdown",
   "metadata": {}
  },
  {
   "cell_type": "code",
   "execution_count": null,
   "metadata": {},
   "outputs": [],
   "source": [
    "class Solution:\n",
    "    def largestRectangleArea(self, heights: List[int]) -> int:\n",
    "        res = 0\n",
    "        heights = [0]+heights+[0]\n",
    "        n = len(heights)\n",
    "        res = 0\n",
    "        stack = [0]\n",
    "        for i in range(1, n):\n",
    "            while stack and heights[stack[-1]] > heights[i]:\n",
    "                cur_height = heights[stack.pop()]\n",
    "\n",
    "                while stack and cur_height == heights[stack[-1]]:\n",
    "                    stack.pop()\n",
    "\n",
    "                cur_width = i - stack[-1] - 1 \n",
    "                #为什么要-1, 因为现在的stack最顶层的元素是小于cur_height的元素\n",
    "\n",
    "                res = max(res, cur_height * cur_width)\n",
    "            stack.append(i)\n",
    "        return res"
   ]
  },
  {
   "source": [
    "## 42. 接雨水\n",
    "[42. 接雨水](https://leetcode-cn.com/problems/trapping-rain-water/)"
   ],
   "cell_type": "markdown",
   "metadata": {}
  },
  {
   "cell_type": "code",
   "execution_count": null,
   "metadata": {},
   "outputs": [],
   "source": [
    "#https://leetcode-cn.com/problems/trapping-rain-water/solution/xiang-xi-tong-su-de-si-lu-fen-xi-duo-jie-fa-by-w-8/\n",
    "class Solution:\n",
    "    def trap(self, height: List[int]) -> int:\n",
    "\n",
    "        n = len(height)\n",
    "\n",
    "        stack = []\n",
    "        ans = 0\n",
    "        for i in range(n):\n",
    "            while stack and height[stack[-1]] < height[i]:\n",
    "                cur = stack.pop()\n",
    "\n",
    "                if not stack:\n",
    "                    break \n",
    "\n",
    "                l = stack[-1]\n",
    "                r = i\n",
    "                h = min(height[r], height[l]) - height[cur]\n",
    "                ans += h * (r - l - 1)\n",
    "\n",
    "            stack.append(i)\n",
    "        \n",
    "        return ans"
   ]
  },
  {
   "source": [
    "## 316. 去除重复字母\n",
    "[316. 去除重复字母](https://leetcode-cn.com/problems/remove-duplicate-letters/)"
   ],
   "cell_type": "markdown",
   "metadata": {}
  },
  {
   "cell_type": "code",
   "execution_count": null,
   "metadata": {},
   "outputs": [],
   "source": [
    "class Solution:\n",
    "    def removeDuplicateLetters(self, s: str) -> str:\n",
    "\n",
    "        # 建立一个字典。其中 key 为 字符 c，value 为其出现的剩余次数。\n",
    "        # 从左往右遍历字符串，每次遍历到一个字符，其剩余出现次数 - 1.\n",
    "        # 对于每一个字符，如果其对应的剩余出现次数大于 1，我们可以选择丢弃（也可以选择不丢弃），否则不可以丢弃。\n",
    "        # 是否丢弃的标准和上面题目类似。如果栈中相邻的元素字典序更大，那么我们选择丢弃相邻的栈中的元素。\n",
    "        # https://leetcode-cn.com/problems/remove-duplicate-letters/solution/yi-zhao-chi-bian-li-kou-si-dao-ti-ma-ma-zai-ye-b-4/\n",
    "\n",
    "        res = []\n",
    "        remain_counter = collections.Counter(s)\n",
    "        stack = []\n",
    "        for c in s:\n",
    "  \n",
    "            if c not in stack:\n",
    "                while stack and stack[-1] > c and remain_counter[stack[-1]] > 0:\n",
    "                    stack.pop()\n",
    "                    \n",
    "                stack.append(c)\n",
    "            remain_counter[c] -= 1\n",
    "        \n",
    "        return \"\".join(stack)"
   ]
  },
  {
   "source": [
    "## 901. 股票价格跨度\n",
    "[901. 股票价格跨度](https://leetcode-cn.com/problems/online-stock-span/)"
   ],
   "cell_type": "markdown",
   "metadata": {}
  },
  {
   "source": [
    "## 402. 移掉K位数字\n",
    "[402. 移掉K位数字](https://leetcode-cn.com/problems/remove-k-digits/)"
   ],
   "cell_type": "markdown",
   "metadata": {}
  },
  {
   "cell_type": "code",
   "execution_count": null,
   "metadata": {},
   "outputs": [],
   "source": [
    "class Solution:\n",
    "    def removeKdigits(self, num: str, k: int) -> str:\n",
    "\n",
    "        stack = []\n",
    "        remain = len(num) - k\n",
    "        for digit in num:\n",
    "            while k and stack and stack[-1] > digit:\n",
    "                stack.pop()\n",
    "                k -= 1\n",
    "            stack.append(digit)\n",
    "        \n",
    "        s = \"\".join(stack[:remain]).lstrip(\"0\")\n",
    "        if len(s) == 0:\n",
    "            return \"0\"\n",
    "        \n",
    "        return s"
   ]
  },
  {
   "source": [
    "## 581. 最短无序连续子数组\n",
    "[581. 最短无序连续子数组](https://leetcode-cn.com/problems/shortest-unsorted-continuous-subarray/)"
   ],
   "cell_type": "markdown",
   "metadata": {}
  },
  {
   "cell_type": "code",
   "execution_count": null,
   "metadata": {},
   "outputs": [],
   "source": [
    "# 双指针方法\n",
    "class Solution:\n",
    "    def findUnsortedSubarray(self, nums: List[int]) -> int:\n",
    "\n",
    "        n = len(nums)\n",
    "        max_val = nums[0]\n",
    "        min_val = nums[-1]\n",
    "        \n",
    "        begin = 0\n",
    "        end = -1\n",
    "        \n",
    "        for i in range(n):\n",
    "\n",
    "            if nums[i] < max_val:\n",
    "                end = i\n",
    "            else:\n",
    "                max_val = nums[i]\n",
    "            \n",
    "            k = n - i - 1\n",
    "            if nums[k] > min_val:\n",
    "                begin = k\n",
    "            else:\n",
    "                min_val = nums[k]\n",
    "            #print(\"{}:{}\".format(i,nums[i]), \"idx: \", end, \"max val: \", max_val)\n",
    "            #print(\"{}:{}\".format(k,nums[k]), \"idx: \", begin, \"min val: \", min_val)\n",
    "\n",
    "        return end - begin + 1"
   ]
  },
  {
   "cell_type": "code",
   "execution_count": null,
   "metadata": {},
   "outputs": [],
   "source": [
    "# monotone stack 方法\n",
    "class Solution:\n",
    "    def findUnsortedSubarray(self, nums: List[int]) -> int:\n",
    "\n",
    "        n = len(nums)\n",
    "        \n",
    "        begin = n-1\n",
    "        end = 0\n",
    "        stack = []\n",
    "        for  i in range(n):\n",
    "            while stack and nums[stack[-1]] > nums[i]:\n",
    "                \n",
    "                begin = min(begin, stack.pop())\n",
    "            stack.append(i)\n",
    "        # print(\"begin: \", begin)\n",
    "        stack = []\n",
    "        for i in reversed(range(n)):\n",
    "            while stack and nums[stack[-1]] < nums[i]:\n",
    "                end = max(end, stack.pop())\n",
    "            stack.append(i)\n",
    "        # print(\"end: \", end)\n",
    "        if end > 0:\n",
    "            return end - begin + 1\n",
    "        \n",
    "        return 0"
   ]
  },
  {
   "source": [
    "## 321. 拼接最大数\n",
    "[321. 拼接最大数](https://leetcode-cn.com/problems/create-maximum-number/)"
   ],
   "cell_type": "markdown",
   "metadata": {}
  },
  {
   "cell_type": "code",
   "execution_count": null,
   "metadata": {},
   "outputs": [],
   "source": [
    "class Solution:\n",
    "    def maxNumber(self, nums1: List[int], nums2: List[int], k: int) -> List[int]:\n",
    "\n",
    "        def maxNumK(nums: List[int], k: int) -> List[int]:\n",
    "\n",
    "            stack = []\n",
    "            remove = len(nums) - k\n",
    "            for v in nums:\n",
    "                while remove and stack and stack[-1] < v:\n",
    "                    stack.pop()\n",
    "                    remove -= 1\n",
    "                stack.append(v)\n",
    "\n",
    "            return stack[:k]\n",
    "        def merge(A: List[int], B: List[int]) -> List[int]:\n",
    "            ans = []\n",
    "            while A or B:\n",
    "                bigger_pointer = A if A > B else B\n",
    "                ans.append(bigger_pointer[0])\n",
    "                bigger_pointer.pop(0)\n",
    "            return ans\n",
    "\n",
    "        max_arr = []    \n",
    "        for i in range(k+1):\n",
    "            if i <= len(nums1) and k-i <= len(nums2):\n",
    "                #print(\"i: \", i)\n",
    "                #print(\"nums1: \", maxNumK(nums1, i))\n",
    "                #print(\"nums2: \", maxNumK(nums2, k-i))\n",
    "                val = merge(maxNumK(nums1, i), maxNumK(nums2, k-i))\n",
    "                \n",
    "                if len(val) < k:\n",
    "                    continue\n",
    "                if val > max_arr:\n",
    "                    max_arr = val\n",
    "\n",
    "        return max_arr"
   ]
  }
 ]
}