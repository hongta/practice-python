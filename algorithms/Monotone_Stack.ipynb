{
 "metadata": {
  "language_info": {
   "codemirror_mode": {
    "name": "ipython",
    "version": 3
   },
   "file_extension": ".py",
   "mimetype": "text/x-python",
   "name": "python",
   "nbconvert_exporter": "python",
   "pygments_lexer": "ipython3",
   "version": "3.7.7-final"
  },
  "orig_nbformat": 2,
  "kernelspec": {
   "name": "Python 3.7.7 64-bit",
   "display_name": "Python 3.7.7 64-bit",
   "metadata": {
    "interpreter": {
     "hash": "df955ce39d0f31d56d4bb2fe0a613e5326ba60723fd33d8303a3aede8f65715c"
    }
   }
  }
 },
 "nbformat": 4,
 "nbformat_minor": 2,
 "cells": [
  {
   "source": [
    "# Monotone Stack Summary 单调栈\n",
    "单调栈 Monotone Stack，就是栈内元素都是单调递增或者单调递减\n",
    "\n",
    "单调栈的性质：\n",
    "\n",
    "1. 单调栈里的元素具有单调性\n",
    "2. 元素加入栈前，会在栈顶端把破坏栈单调性的元素都删除\n",
    "3. 使用单调栈可以找到元素向左遍历第一个比他小的元素，也可以找到元素向左遍历第一个比他大的元素。\n",
    "\n",
    "### 模版1\n",
    "```python\n",
    "        stack = [] #存放index\n",
    "        res = [0] * len(T)\n",
    "\n",
    "        for i in range(len(T)):\n",
    "            while len(stack) > 0 and T[stack[-1]] < T[i]:\n",
    "                idx = stack.pop()\n",
    "                res[idx] = i - idx\n",
    "            stack.append(i)\n",
    "        return res\n",
    "```\n",
    "### 模版2\n",
    "```python\n",
    "        for i in reversed(range(n)):\n",
    "            while stack and stack[-1] <= nums[i]:\n",
    "                stack.pop()\n",
    "            res[i] = stack[-1] if stack else -1\n",
    "            \n",
    "            stack.append(nums[i])\n",
    "\n",
    "         return res \n",
    "```\n"
   ],
   "cell_type": "markdown",
   "metadata": {}
  },
  {
   "source": [
    "## 739. 每日温度\n",
    "[739. 每日温度](https://leetcode-cn.com/problems/daily-temperatures/)"
   ],
   "cell_type": "markdown",
   "metadata": {}
  },
  {
   "cell_type": "code",
   "execution_count": 1,
   "metadata": {},
   "outputs": [
    {
     "output_type": "error",
     "ename": "NameError",
     "evalue": "name 'List' is not defined",
     "traceback": [
      "\u001b[0;31m---------------------------------------------------------------------------\u001b[0m",
      "\u001b[0;31mNameError\u001b[0m                                 Traceback (most recent call last)",
      "\u001b[0;32m<ipython-input-1-5699a443bb1d>\u001b[0m in \u001b[0;36m<module>\u001b[0;34m\u001b[0m\n\u001b[0;32m----> 1\u001b[0;31m \u001b[0;32mclass\u001b[0m \u001b[0mSolution\u001b[0m\u001b[0;34m:\u001b[0m\u001b[0;34m\u001b[0m\u001b[0;34m\u001b[0m\u001b[0m\n\u001b[0m\u001b[1;32m      2\u001b[0m     \u001b[0;32mdef\u001b[0m \u001b[0mdailyTemperatures\u001b[0m\u001b[0;34m(\u001b[0m\u001b[0mself\u001b[0m\u001b[0;34m,\u001b[0m \u001b[0mT\u001b[0m\u001b[0;34m:\u001b[0m \u001b[0mList\u001b[0m\u001b[0;34m[\u001b[0m\u001b[0mint\u001b[0m\u001b[0;34m]\u001b[0m\u001b[0;34m)\u001b[0m \u001b[0;34m->\u001b[0m \u001b[0mList\u001b[0m\u001b[0;34m[\u001b[0m\u001b[0mint\u001b[0m\u001b[0;34m]\u001b[0m\u001b[0;34m:\u001b[0m\u001b[0;34m\u001b[0m\u001b[0;34m\u001b[0m\u001b[0m\n\u001b[1;32m      3\u001b[0m \u001b[0;34m\u001b[0m\u001b[0m\n\u001b[1;32m      4\u001b[0m         \u001b[0mstack\u001b[0m \u001b[0;34m=\u001b[0m \u001b[0;34m[\u001b[0m\u001b[0;34m]\u001b[0m\u001b[0;34m\u001b[0m\u001b[0;34m\u001b[0m\u001b[0m\n\u001b[1;32m      5\u001b[0m         \u001b[0mres\u001b[0m \u001b[0;34m=\u001b[0m \u001b[0;34m[\u001b[0m\u001b[0;36m0\u001b[0m\u001b[0;34m]\u001b[0m \u001b[0;34m*\u001b[0m \u001b[0mlen\u001b[0m\u001b[0;34m(\u001b[0m\u001b[0mT\u001b[0m\u001b[0;34m)\u001b[0m\u001b[0;34m\u001b[0m\u001b[0;34m\u001b[0m\u001b[0m\n",
      "\u001b[0;32m<ipython-input-1-5699a443bb1d>\u001b[0m in \u001b[0;36mSolution\u001b[0;34m()\u001b[0m\n\u001b[1;32m      1\u001b[0m \u001b[0;32mclass\u001b[0m \u001b[0mSolution\u001b[0m\u001b[0;34m:\u001b[0m\u001b[0;34m\u001b[0m\u001b[0;34m\u001b[0m\u001b[0m\n\u001b[0;32m----> 2\u001b[0;31m     \u001b[0;32mdef\u001b[0m \u001b[0mdailyTemperatures\u001b[0m\u001b[0;34m(\u001b[0m\u001b[0mself\u001b[0m\u001b[0;34m,\u001b[0m \u001b[0mT\u001b[0m\u001b[0;34m:\u001b[0m \u001b[0mList\u001b[0m\u001b[0;34m[\u001b[0m\u001b[0mint\u001b[0m\u001b[0;34m]\u001b[0m\u001b[0;34m)\u001b[0m \u001b[0;34m->\u001b[0m \u001b[0mList\u001b[0m\u001b[0;34m[\u001b[0m\u001b[0mint\u001b[0m\u001b[0;34m]\u001b[0m\u001b[0;34m:\u001b[0m\u001b[0;34m\u001b[0m\u001b[0;34m\u001b[0m\u001b[0m\n\u001b[0m\u001b[1;32m      3\u001b[0m \u001b[0;34m\u001b[0m\u001b[0m\n\u001b[1;32m      4\u001b[0m         \u001b[0mstack\u001b[0m \u001b[0;34m=\u001b[0m \u001b[0;34m[\u001b[0m\u001b[0;34m]\u001b[0m\u001b[0;34m\u001b[0m\u001b[0;34m\u001b[0m\u001b[0m\n\u001b[1;32m      5\u001b[0m         \u001b[0mres\u001b[0m \u001b[0;34m=\u001b[0m \u001b[0;34m[\u001b[0m\u001b[0;36m0\u001b[0m\u001b[0;34m]\u001b[0m \u001b[0;34m*\u001b[0m \u001b[0mlen\u001b[0m\u001b[0;34m(\u001b[0m\u001b[0mT\u001b[0m\u001b[0;34m)\u001b[0m\u001b[0;34m\u001b[0m\u001b[0;34m\u001b[0m\u001b[0m\n",
      "\u001b[0;31mNameError\u001b[0m: name 'List' is not defined"
     ]
    }
   ],
   "source": [
    "class Solution:\n",
    "    def dailyTemperatures(self, T: List[int]) -> List[int]:\n",
    "\n",
    "        stack = []\n",
    "        res = [0] * len(T)\n",
    "        for i in range(len(T)):\n",
    "            while len(stack) > 0 and T[stack[-1]] < T[i]:\n",
    "                idx = stack.pop()\n",
    "                res[idx] = i - idx\n",
    "            stack.append(i)\n",
    "        return res"
   ]
  },
  {
   "source": [
    "## 496. 下一个更大元素 I\n",
    "[496. 下一个更大元素 I](https://leetcode-cn.com/problems/next-greater-element-i/)"
   ],
   "cell_type": "markdown",
   "metadata": {}
  },
  {
   "cell_type": "code",
   "execution_count": null,
   "metadata": {},
   "outputs": [],
   "source": [
    "class Solution:\n",
    "    def nextGreaterElement(self, nums1: List[int], nums2: List[int]) -> List[int]:\n",
    "\n",
    "        stack = []\n",
    "        n = len(nums2)\n",
    "        d = {}\n",
    "        \n",
    "        for i in range(n):\n",
    "            while stack and stack[-1] < nums2[i]:\n",
    "                d[stack.pop()] = nums2[i]\n",
    "            stack.append(nums2[i])\n",
    "\n",
    "        while stack:\n",
    "            d[stack.pop()] = -1\n",
    "\n",
    "\n",
    "        return [d[v] for v in nums1]\n"
   ]
  },
  {
   "source": [
    "## 503. 下一个更大元素 II\n",
    "[503. 下一个更大元素 II](503. 下一个更大元素 II)"
   ],
   "cell_type": "markdown",
   "metadata": {}
  },
  {
   "cell_type": "code",
   "execution_count": null,
   "metadata": {},
   "outputs": [],
   "source": [
    "# 问题：\n",
    "# 1. 对数组的拷贝，造成浪费\n",
    "# 2. res依赖于初始化\n",
    "\n",
    "class Solution:\n",
    "    def nextGreaterElements(self, nums: List[int]) -> List[int]:\n",
    "\n",
    "        nums2 = nums * 2\n",
    "        n = len(nums2)\n",
    "\n",
    "        stack = []\n",
    "        res = [-1] * n\n",
    "        for i in range(n):\n",
    "            while stack and nums2[stack[-1]] < nums2[i]:\n",
    "                res[stack.pop()] = nums2[i]\n",
    "            stack.append(i)\n",
    "\n",
    "        return res[:len(nums)]"
   ]
  },
  {
   "cell_type": "code",
   "execution_count": null,
   "metadata": {},
   "outputs": [],
   "source": [
    "# 使用 i%n 作为index\n",
    "# 使用逆向遍历\n",
    "class Solution:\n",
    "    def nextGreaterElements(self, nums: List[int]) -> List[int]:\n",
    "\n",
    "        \n",
    "        n = len(nums)\n",
    "\n",
    "        stack = []\n",
    "        res = [-1] * n\n",
    "        for i in reversed(range(2*n)):\n",
    "            idx = i%n\n",
    "            while stack and stack[-1] <= nums[idx]:\n",
    "                stack.pop()\n",
    "            res[idx] = stack[-1] if stack else -1\n",
    "            stack.append(nums[idx])\n",
    "\n",
    "        return res"
   ]
  },
  {
   "source": [
    "## 84. 柱状图中最大的矩形\n",
    "[84. 柱状图中最大的矩形](https://leetcode-cn.com/problems/largest-rectangle-in-histogram/)"
   ],
   "cell_type": "markdown",
   "metadata": {}
  },
  {
   "cell_type": "code",
   "execution_count": null,
   "metadata": {},
   "outputs": [],
   "source": [
    "class Solution:\n",
    "    def largestRectangleArea(self, heights: List[int]) -> int:\n",
    "        res = 0\n",
    "        heights = [0]+heights+[0]\n",
    "        n = len(heights)\n",
    "        res = 0\n",
    "        stack = [0]\n",
    "        for i in range(1, n):\n",
    "            while stack and heights[stack[-1]] > heights[i]:\n",
    "                cur_height = heights[stack.pop()]\n",
    "\n",
    "                while stack and cur_height == heights[stack[-1]]:\n",
    "                    stack.pop()\n",
    "\n",
    "                cur_width = i - stack[-1] - 1 \n",
    "                #为什么要-1, 因为现在的stack最顶层的元素是小于cur_height的元素\n",
    "\n",
    "                res = max(res, cur_height * cur_width)\n",
    "            stack.append(i)\n",
    "        return res"
   ]
  },
  {
   "source": [
    "## 42. 接雨水\n",
    "[42. 接雨水](https://leetcode-cn.com/problems/trapping-rain-water/)"
   ],
   "cell_type": "markdown",
   "metadata": {}
  },
  {
   "cell_type": "code",
   "execution_count": null,
   "metadata": {},
   "outputs": [],
   "source": [
    "class Solution:\n",
    "    def trap(self, height: List[int]) -> int:\n",
    "\n",
    "        n = len(height)\n",
    "\n",
    "        stack = []\n",
    "        ans = 0\n",
    "        for i in range(n):\n",
    "            while stack and height[stack[-1]] < height[i]:\n",
    "                cur = stack.pop()\n",
    "\n",
    "                if not stack:\n",
    "                    break \n",
    "\n",
    "                l = stack[-1]\n",
    "                r = i\n",
    "                h = min(height[r], height[l]) - height[cur]\n",
    "                ans += h * (r - l - 1)\n",
    "\n",
    "            stack.append(i)\n",
    "        \n",
    "        return ans"
   ]
  },
  {
   "source": [
    "## 316. 去除重复字母\n",
    "[316. 去除重复字母](https://leetcode-cn.com/problems/remove-duplicate-letters/)"
   ],
   "cell_type": "markdown",
   "metadata": {}
  },
  {
   "source": [
    "## 901. 股票价格跨度\n",
    "[901. 股票价格跨度](https://leetcode-cn.com/problems/online-stock-span/)"
   ],
   "cell_type": "markdown",
   "metadata": {}
  },
  {
   "source": [
    "## 402. 移掉K位数字\n",
    "[402. 移掉K位数字](https://leetcode-cn.com/problems/remove-k-digits/)"
   ],
   "cell_type": "markdown",
   "metadata": {}
  },
  {
   "source": [
    "## 581. 最短无序连续子数组\n",
    "[581. 最短无序连续子数组](https://leetcode-cn.com/problems/shortest-unsorted-continuous-subarray/)"
   ],
   "cell_type": "markdown",
   "metadata": {}
  }
 ]
}