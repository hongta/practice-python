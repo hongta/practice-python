{
 "metadata": {
  "language_info": {
   "codemirror_mode": {
    "name": "ipython",
    "version": 3
   },
   "file_extension": ".py",
   "mimetype": "text/x-python",
   "name": "python",
   "nbconvert_exporter": "python",
   "pygments_lexer": "ipython3",
   "version": "3.7.7-final"
  },
  "orig_nbformat": 2,
  "kernelspec": {
   "name": "Python 3.7.7 64-bit",
   "display_name": "Python 3.7.7 64-bit",
   "metadata": {
    "interpreter": {
     "hash": "df955ce39d0f31d56d4bb2fe0a613e5326ba60723fd33d8303a3aede8f65715c"
    }
   }
  }
 },
 "nbformat": 4,
 "nbformat_minor": 2,
 "cells": [
  {
   "source": [
    "## 概述\n",
    "\n",
    "二叉数的遍历主要有前中后遍历和层次遍历。 前中后属于 DFS，层次遍历属于 BFS。 DFS 和 BFS 都有着自己的应用\n",
    "\n",
    "- **DFS** 都可以使用栈来简化操作，并且其实树本身是一种递归的数据结构，因此递归和栈对于 DFS 来说是两个关键点。\n",
    "- **BFS** 的关键点在于如何记录每一层次是否遍历完成， 我们可以用一个标识位来表式当前层的结束。\n",
    "\n",
    "首先不管是前中还是后序遍历，变的只是根节点的位置， 左右节点的顺序永远是先左后右。 比如前序遍历就是根在前面，即根左右。中序就是根在中间，即左根右。后序就是根在后面，即左右根。"
   ],
   "cell_type": "markdown",
   "metadata": {}
  },
  {
   "cell_type": "code",
   "execution_count": 1,
   "metadata": {},
   "outputs": [],
   "source": [
    "class TreeNode:\n",
    "    def __init__(self, val=0, left=None, right=None):\n",
    "        self.val = val\n",
    "        self.left = left\n",
    "        self.right = right"
   ]
  },
  {
   "cell_type": "code",
   "execution_count": 2,
   "metadata": {},
   "outputs": [],
   "source": [
    "from typing import List"
   ]
  },
  {
   "source": [
    "## 前序遍历\n",
    "- 如果非递归的话利用栈来简化操作\n",
    "- 如果数据规模不大的话，建议使用递归\n",
    "- 递归的问题需要注意两点，一个是终止条件，一个如何缩小规模\n",
    "- 终止条件，自然是当前这个元素是 null（链表也是一样）\n",
    "- 由于二叉树本身就是一个递归结构， 每次处理一个子树其实就是缩小了规模， 难点在于如何合并结果，这里的合并结果其实就是`mid.concat(left).concat(right)`, `mid` 是一个具体的节点，`left` 和 `right`递归求出即可"
   ],
   "cell_type": "markdown",
   "metadata": {}
  },
  {
   "cell_type": "code",
   "execution_count": 4,
   "metadata": {},
   "outputs": [],
   "source": [
    "# 递归实现\n",
    "class Solution:\n",
    "    def preorderTraversal(self, root: TreeNode) -> List[int]:\n",
    "        \n",
    "        res = []\n",
    "        def dfs(root):\n",
    "            if not root:\n",
    "                return\n",
    "            \n",
    "            res.append(root.val)\n",
    "            dfs(root.left)\n",
    "            dfs(root.right)\n",
    "        dfs(root)\n",
    "        return res\n"
   ]
  },
  {
   "cell_type": "code",
   "execution_count": 5,
   "metadata": {},
   "outputs": [],
   "source": [
    "class Solution:\n",
    "    # 迭代实现\n",
    "    def preorderTraversal(self, root: TreeNode) -> List[int]:\n",
    "        \n",
    "        if not root:\n",
    "            return []\n",
    "\n",
    "        res = []\n",
    "        stack = [root]\n",
    "        \n",
    "        while stack:\n",
    "            node = stack.pop()\n",
    "            res.append(node.val)\n",
    "            if root.right:\n",
    "                stack.append(node.right)\n",
    "            if root.left:\n",
    "                stack.append(node.left)\n",
    "        return res"
   ]
  },
  {
   "cell_type": "code",
   "execution_count": null,
   "metadata": {},
   "outputs": [],
   "source": [
    "class Solution:\n",
    "    # 迭代实现 2\n",
    "    def preorderTraversal(self, root: TreeNode) -> List[int]:\n",
    "        \n",
    "        if not root:\n",
    "            return []\n",
    "\n",
    "        res = []\n",
    "        stack = []\n",
    "\n",
    "        node = root\n",
    "        while stack or node:\n",
    "            while node:\n",
    "                res.append(node.val)\n",
    "                stack.append(node)\n",
    "                node = node.left\n",
    "            node = stack.pop()\n",
    "            node = node.right\n",
    "        return res"
   ]
  },
  {
   "source": [
    "## 中序遍历"
   ],
   "cell_type": "markdown",
   "metadata": {}
  },
  {
   "cell_type": "code",
   "execution_count": null,
   "metadata": {},
   "outputs": [],
   "source": [
    "class Solution:\n",
    "    # 递归实现\n",
    "    def inorderTraversal(self, root: TreeNode) -> List[int]:\n",
    "        res = []\n",
    "        \n",
    "        def dfs(root: TreeNode):\n",
    "            if not root:\n",
    "                return None\n",
    "            \n",
    "            if root.left:\n",
    "                dfs(root.left)\n",
    "\n",
    "            res.append(root.val)\n",
    "            \n",
    "            if root.right:\n",
    "                dfs(root.right)\n",
    "        dfs(root)\n",
    "        return res\n"
   ]
  },
  {
   "cell_type": "code",
   "execution_count": 6,
   "metadata": {},
   "outputs": [],
   "source": [
    "class Solution:\n",
    "    # 递归实现 2\n",
    "    def inorderTraversal(self, root: TreeNode) -> List[int]:\n",
    "        if root is None:\n",
    "            return []\n",
    "        return self.inorderTraversal(root.left)\\\n",
    "             + [root.val]\\\n",
    "             + self.inorderTraversal(root.right)"
   ]
  },
  {
   "cell_type": "code",
   "execution_count": null,
   "metadata": {},
   "outputs": [],
   "source": [
    "class Solution:\n",
    "    # 迭代实现\n",
    "    # 1. 从根节点开始，先将根节点压入栈    \n",
    "    # 2. 然后再将其所有左子结点压入栈，取出栈顶节点，保存节点值\n",
    "    # 3. 再将当前指针移到其右子节点上，若存在右子节点，则在下次循环时又可将其所有左子结点压入栈中， 重复上步骤\n",
    "    def inorderTraversal(self, root: TreeNode) -> List[int]:\n",
    "        \n",
    "        if not root:\n",
    "            return []\n",
    "\n",
    "        stack = []\n",
    "        res = []\n",
    "\n",
    "        node = root\n",
    "        while node or stack:\n",
    "            while node:\n",
    "                stack.append(node)\n",
    "                node = node.left\n",
    "            node = stack.pop()\n",
    "            res.append(node.val)\n",
    "            node = node.right\n",
    "        return res"
   ]
  },
  {
   "cell_type": "code",
   "execution_count": null,
   "metadata": {},
   "outputs": [],
   "source": [
    "class Solution:\n",
    "    # 迭代法2\n",
    "    def inorderTraversal(self, root: TreeNode) -> List[int]:\n",
    "        \"\"\"\n",
    "        1. 递归法可以一行代码完成，无需讨论；\n",
    "        2. 迭代法一般需要通过一个栈保存节点顺序，我们这里直接使用列表\n",
    "          - 首先，我要按照中序遍历的顺序存入栈，这边用的逆序，方便从尾部开始处理\n",
    "          - 在存入栈时加入一个是否需要深化的参数\n",
    "          - 在回头取值时，这个参数应该是否，即直接取值\n",
    "          - 简单调整顺序，即可实现前序和后序遍历\n",
    "        \"\"\"\n",
    "        \n",
    "        result = []\n",
    "        stack = [(1, root)]\n",
    "\n",
    "        while stack:\n",
    "            go_deeper, node = stack.pop()\n",
    "            if node is None:\n",
    "                continue\n",
    "            if go_deeper:\n",
    "                # 左右节点还需继续深化，并且入栈是先右后左\n",
    "                stack.append((1, node.right))\n",
    "                # 节点自身已遍历，回头可以直接取值\n",
    "                stack.append((0, node))\n",
    "                stack.append((1, node.left))\n",
    "            else:\n",
    "                result.append(node.val)\n",
    "        return result"
   ]
  },
  {
   "source": [
    "## 后序遍历"
   ],
   "cell_type": "markdown",
   "metadata": {}
  },
  {
   "cell_type": "code",
   "execution_count": null,
   "metadata": {},
   "outputs": [],
   "source": [
    "class Solution:\n",
    "    # 递归实现\n",
    "    def postorderTraversal(self, root: TreeNode) -> List[int]:\n",
    "        if not root:\n",
    "            return []\n",
    "        return self.postorderTraversal(root.left) + self.postorderTraversal(root.right) + [root.val]"
   ]
  },
  {
   "cell_type": "code",
   "execution_count": null,
   "metadata": {},
   "outputs": [],
   "source": [
    "class Solution:\n",
    "    # 迭代实现\n",
    "    # 1. 获得 中 -> 右 -> 左\n",
    "    # 2. 反转\n",
    "    def postorderTraversal(self, root: TreeNode) -> List[int]:\n",
    "\n",
    "        if not root:\n",
    "            return []\n",
    "        \n",
    "        stack = []\n",
    "        res = []\n",
    "\n",
    "        node = root\n",
    "        while node or stack:\n",
    "            while node:\n",
    "                res.append(node.val)\n",
    "                stack.append(node)\n",
    "                node = node.right\n",
    "            node = stack.pop()\n",
    "            node = node.left\n",
    "        \n",
    "        return res[::-1]"
   ]
  },
  {
   "cell_type": "code",
   "execution_count": null,
   "metadata": {},
   "outputs": [],
   "source": [
    "class Solution:\n",
    "    # 迭代实现\n",
    "    # 对于一个新的结点，如果它不是叶子结点，儿子也没有访问，那么就需要将它的右儿子，左儿子压入。 \n",
    "    # 如果它满足输出条件，则输出它，并记录下当前输出结点。输出在stack为空时结束。\n",
    "    \n",
    "    def postorderTraversal(self, root: TreeNode) -> List[int]:\n",
    "\n",
    "        if not root:\n",
    "            return []\n",
    "        \n",
    "        stack = [root]\n",
    "        res = []\n",
    "\n",
    "        node = root\n",
    "        while stack:\n",
    "            top = stack[-1]\n",
    "            if top.left == node or top.right == node or (not top.left and not top.right):\n",
    "                node = stack.pop()\n",
    "                res.append(node.val)\n",
    "            else:\n",
    "                if top.right:\n",
    "                    stack.append(top.right)\n",
    "                if top.left:\n",
    "                    stack.append(top.left)"
   ]
  },
  {
   "source": [
    "## 层次遍历\n",
    "- 这道题可以借助`队列`实现，首先把`root`入队，然后入队一个特殊元素`Null`(来表示每层的结束)。\n",
    "- 然后就是`while(queue.length)`, 每次处理一个节点，都将其子节点（在这里是left和right）放到队列中。\n",
    "- 然后不断的出队， 如果出队的是`null`，则表式这一层已经结束了，我们就继续`push`一个`null`。\n",
    "- 如果不入队特殊元素`Null`来表示每层的结束，则在`while`循环开始时保存当前队列的长度，以保证每次只遍历一层\n",
    "\n",
    "`「BFS 遍历」`、`「层序遍历」`、`「最短路径」`实际上是递进的关系。在 BFS 遍历的基础上区分遍历的每一层，就得到了层序遍历。在层序遍历的基础上记录层数，就得到了最短路径。\n",
    "\n"
   ],
   "cell_type": "markdown",
   "metadata": {}
  },
  {
   "cell_type": "code",
   "execution_count": null,
   "metadata": {},
   "outputs": [],
   "source": [
    "class Solution:\n",
    "    def levelOrder(self, root: TreeNode) -> List[List[int]]:\n",
    "\n",
    "        if not root:\n",
    "            return []\n",
    "\n",
    "        q = collections.deque([root])\n",
    "        res = []\n",
    "        while q:\n",
    "            n = len(q)\n",
    "            level = []\n",
    "            for i in range(n):\n",
    "                node = q.popleft()\n",
    "                level.append(node.val)\n",
    "                if node.left:\n",
    "                    q.append(node.left)\n",
    "                if node.right:\n",
    "                    q.append(node.right)\n",
    "            res.append(level)\n",
    "        return res"
   ]
  },
  {
   "source": [
    "## Morris 遍历\n",
    "- Initialize the `root` as the current node `curr`.\n",
    "- While `curr` is not `NULL`, check if `curr` has a left child.\n",
    "- If `curr` does not have a left child, print `curr` and update it to point to the node on the right of `curr`.\n",
    "- Else, make `curr` the right child of the rightmost node in `curr`'s left subtree.\n",
    "- Update `curr` to this left node."
   ],
   "cell_type": "markdown",
   "metadata": {}
  }
 ]
}